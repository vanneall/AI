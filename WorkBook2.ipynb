{
 "cells": [
  {
   "cell_type": "markdown",
   "source": [
    "## 1.3.1 Задание\n",
    "Создать 8x8 матрицу и заполнить её в шахматном порядке нулями и\n",
    "единицами."
   ],
   "metadata": {
    "collapsed": false
   }
  },
  {
   "cell_type": "code",
   "execution_count": 1,
   "outputs": [
    {
     "name": "stdout",
     "output_type": "stream",
     "text": [
      "[[0 1 0 1 0 1 0 1]\n",
      " [1 0 1 0 1 0 1 0]\n",
      " [0 1 0 1 0 1 0 1]\n",
      " [1 0 1 0 1 0 1 0]\n",
      " [0 1 0 1 0 1 0 1]\n",
      " [1 0 1 0 1 0 1 0]\n",
      " [0 1 0 1 0 1 0 1]\n",
      " [1 0 1 0 1 0 1 0]]\n"
     ]
    }
   ],
   "source": [
    "import numpy\n",
    "\n",
    "arr = numpy.array(\n",
    "    [[0, 1, 0, 1, 0, 1, 0, 1], [1, 0, 1, 0, 1, 0, 1, 0], [0, 1, 0, 1, 0, 1, 0, 1], [1, 0, 1, 0, 1, 0, 1, 0],\n",
    "     [0, 1, 0, 1, 0, 1, 0, 1], [1, 0, 1, 0, 1, 0, 1, 0], [0, 1, 0, 1, 0, 1, 0, 1], [1, 0, 1, 0, 1, 0, 1, 0]])\n",
    "print(arr)"
   ],
   "metadata": {
    "collapsed": false
   }
  },
  {
   "cell_type": "markdown",
   "source": [
    "## 1.3.2 Задание\n",
    "Создать 5x5 матрицу со значениями в строках от 0 до 4. Для создания\n",
    "необходимо использовать функцию arrange."
   ],
   "metadata": {
    "collapsed": false
   }
  },
  {
   "cell_type": "code",
   "execution_count": 12,
   "outputs": [
    {
     "name": "stdout",
     "output_type": "stream",
     "text": [
      "[[0 1 2 3 4]\n",
      " [0 1 2 3 4]\n",
      " [0 1 2 3 4]\n",
      " [0 1 2 3 4]\n",
      " [0 1 2 3 4]]\n"
     ]
    }
   ],
   "source": [
    "arr = numpy.arange(0, 25).reshape(5, 5)\n",
    "for i in range(len(arr)):\n",
    "    arr[i] = numpy.arange(0, 5)\n",
    "print(arr)"
   ],
   "metadata": {
    "collapsed": false
   }
  },
  {
   "cell_type": "markdown",
   "source": [
    "## 1.3.3 Задание\n",
    "Создать массив 3x3x3 со случайными значениями."
   ],
   "metadata": {
    "collapsed": false
   }
  },
  {
   "cell_type": "code",
   "execution_count": 13,
   "outputs": [
    {
     "name": "stdout",
     "output_type": "stream",
     "text": [
      "[[[0.9119817  0.3009009  0.00391653]\n",
      "  [0.31584222 0.92079682 0.07000327]\n",
      "  [0.62490707 0.85435932 0.71050407]]\n",
      "\n",
      " [[0.52056218 0.63274808 0.67600585]\n",
      "  [0.46973566 0.99787815 0.5032654 ]\n",
      "  [0.64877824 0.93709783 0.37175687]]\n",
      "\n",
      " [[0.71472306 0.70626297 0.60185664]\n",
      "  [0.59595544 0.25671304 0.67546246]\n",
      "  [0.6198267  0.43544915 0.7879987 ]]]\n"
     ]
    }
   ],
   "source": [
    "arr = numpy.random.random((3, 3, 3))\n",
    "print(arr)"
   ],
   "metadata": {
    "collapsed": false
   }
  },
  {
   "cell_type": "markdown",
   "source": [
    "## 1.3.4 Задание\n",
    "Создать матрицу с 0 внутри, и 1 на границах"
   ],
   "metadata": {
    "collapsed": false
   }
  },
  {
   "cell_type": "code",
   "execution_count": 17,
   "outputs": [
    {
     "name": "stdout",
     "output_type": "stream",
     "text": [
      "[[0. 0. 0. 0. 0. 0.]\n",
      " [0. 1. 1. 1. 1. 0.]\n",
      " [0. 1. 1. 1. 1. 0.]\n",
      " [0. 1. 1. 1. 1. 0.]\n",
      " [0. 1. 1. 1. 1. 0.]\n",
      " [0. 0. 0. 0. 0. 0.]]\n"
     ]
    }
   ],
   "source": [
    "arr = numpy.zeros((6, 6))\n",
    "for i in range(1, len(arr) - 1):\n",
    "    for j in range(1, len(arr[i]) - 1):\n",
    "        arr[i, j] = 1\n",
    "print(arr)"
   ],
   "metadata": {
    "collapsed": false
   }
  },
  {
   "cell_type": "markdown",
   "source": [
    "## 1.3.5 Задание\n",
    "Создайте массив и отсортируйте его по убыванию."
   ],
   "metadata": {
    "collapsed": false
   }
  },
  {
   "cell_type": "code",
   "execution_count": 42,
   "outputs": [
    {
     "name": "stdout",
     "output_type": "stream",
     "text": [
      "[ 5  3 17  9  0  9 10 11  0 15]\n",
      "[17 15 11 10  9  9  5  3  0  0]\n"
     ]
    }
   ],
   "source": [
    "arr = numpy.random.randint(0, 20, 10)\n",
    "print(arr)\n",
    "arr = numpy.sort(arr)[::-1]\n",
    "print(arr)"
   ],
   "metadata": {
    "collapsed": false
   }
  },
  {
   "cell_type": "markdown",
   "source": [
    "## 1.3.6 Задание\n",
    "Создайте матрицу, выведите ее форму, размер и размерность."
   ],
   "metadata": {
    "collapsed": false
   }
  },
  {
   "cell_type": "code",
   "execution_count": 45,
   "outputs": [
    {
     "name": "stdout",
     "output_type": "stream",
     "text": [
      "(3, 5)\n",
      "15\n",
      "2\n"
     ]
    }
   ],
   "source": [
    "arr = numpy.random.randint(0, 20, (3, 5))\n",
    "print(arr.shape)\n",
    "print(arr.size)\n",
    "print(arr.ndim)"
   ],
   "metadata": {
    "collapsed": false
   }
  },
  {
   "cell_type": "markdown",
   "source": [
    "## 2.3.1 Задание\n",
    "Найдитн евклидово расстояние между двумя Series (точками) a и b, не\n",
    "используя встроенную формулу."
   ],
   "metadata": {
    "collapsed": false
   }
  },
  {
   "cell_type": "code",
   "execution_count": 48,
   "outputs": [
    {
     "name": "stdout",
     "output_type": "stream",
     "text": [
      "9.695359714832659\n"
     ]
    }
   ],
   "source": [
    "import pandas\n",
    "\n",
    "a = pandas.Series([1, 2, 3, 4, 5])\n",
    "b = pandas.Series([4, 2, 5, 13, 5])\n",
    "sum = 0\n",
    "for i in range(len(a)):\n",
    "    sum += (a[i] - b[i]) ** 2\n",
    "print(sum ** (1 / 2))"
   ],
   "metadata": {
    "collapsed": false
   }
  },
  {
   "cell_type": "markdown",
   "source": [
    "## 2.3.2 Задание\n",
    "Найдите в Интернете ссылку на любой csv файл и сформируйте из него\n",
    "фрейм данных (например, коллекцию фреймов данных можно найти\n",
    "здесь: https://github.com/akmand/datasets)."
   ],
   "metadata": {
    "collapsed": false
   }
  },
  {
   "cell_type": "code",
   "execution_count": 55,
   "outputs": [
    {
     "data": {
      "text/plain": "                                            Name PClass    Age     Sex  \\\n0                   Allen, Miss Elisabeth Walton    1st  29.00  female   \n1                    Allison, Miss Helen Loraine    1st   2.00  female   \n2            Allison, Mr Hudson Joshua Creighton    1st  30.00    male   \n3  Allison, Mrs Hudson JC (Bessie Waldo Daniels)    1st  25.00  female   \n4                  Allison, Master Hudson Trevor    1st   0.92    male   \n5                             Anderson, Mr Harry    1st  47.00    male   \n6               Andrews, Miss Kornelia Theodosia    1st  63.00  female   \n7                         Andrews, Mr Thomas, jr    1st  39.00    male   \n8   Appleton, Mrs Edward Dale (Charlotte Lamson)    1st  58.00  female   \n9                         Artagaveytia, Mr Ramon    1st  71.00    male   \n\n   Survived  SexCode  \n0         1        1  \n1         0        1  \n2         0        0  \n3         0        1  \n4         1        0  \n5         1        0  \n6         1        1  \n7         0        0  \n8         1        1  \n9         0        0  ",
      "text/html": "<div>\n<style scoped>\n    .dataframe tbody tr th:only-of-type {\n        vertical-align: middle;\n    }\n\n    .dataframe tbody tr th {\n        vertical-align: top;\n    }\n\n    .dataframe thead th {\n        text-align: right;\n    }\n</style>\n<table border=\"1\" class=\"dataframe\">\n  <thead>\n    <tr style=\"text-align: right;\">\n      <th></th>\n      <th>Name</th>\n      <th>PClass</th>\n      <th>Age</th>\n      <th>Sex</th>\n      <th>Survived</th>\n      <th>SexCode</th>\n    </tr>\n  </thead>\n  <tbody>\n    <tr>\n      <th>0</th>\n      <td>Allen, Miss Elisabeth Walton</td>\n      <td>1st</td>\n      <td>29.00</td>\n      <td>female</td>\n      <td>1</td>\n      <td>1</td>\n    </tr>\n    <tr>\n      <th>1</th>\n      <td>Allison, Miss Helen Loraine</td>\n      <td>1st</td>\n      <td>2.00</td>\n      <td>female</td>\n      <td>0</td>\n      <td>1</td>\n    </tr>\n    <tr>\n      <th>2</th>\n      <td>Allison, Mr Hudson Joshua Creighton</td>\n      <td>1st</td>\n      <td>30.00</td>\n      <td>male</td>\n      <td>0</td>\n      <td>0</td>\n    </tr>\n    <tr>\n      <th>3</th>\n      <td>Allison, Mrs Hudson JC (Bessie Waldo Daniels)</td>\n      <td>1st</td>\n      <td>25.00</td>\n      <td>female</td>\n      <td>0</td>\n      <td>1</td>\n    </tr>\n    <tr>\n      <th>4</th>\n      <td>Allison, Master Hudson Trevor</td>\n      <td>1st</td>\n      <td>0.92</td>\n      <td>male</td>\n      <td>1</td>\n      <td>0</td>\n    </tr>\n    <tr>\n      <th>5</th>\n      <td>Anderson, Mr Harry</td>\n      <td>1st</td>\n      <td>47.00</td>\n      <td>male</td>\n      <td>1</td>\n      <td>0</td>\n    </tr>\n    <tr>\n      <th>6</th>\n      <td>Andrews, Miss Kornelia Theodosia</td>\n      <td>1st</td>\n      <td>63.00</td>\n      <td>female</td>\n      <td>1</td>\n      <td>1</td>\n    </tr>\n    <tr>\n      <th>7</th>\n      <td>Andrews, Mr Thomas, jr</td>\n      <td>1st</td>\n      <td>39.00</td>\n      <td>male</td>\n      <td>0</td>\n      <td>0</td>\n    </tr>\n    <tr>\n      <th>8</th>\n      <td>Appleton, Mrs Edward Dale (Charlotte Lamson)</td>\n      <td>1st</td>\n      <td>58.00</td>\n      <td>female</td>\n      <td>1</td>\n      <td>1</td>\n    </tr>\n    <tr>\n      <th>9</th>\n      <td>Artagaveytia, Mr Ramon</td>\n      <td>1st</td>\n      <td>71.00</td>\n      <td>male</td>\n      <td>0</td>\n      <td>0</td>\n    </tr>\n  </tbody>\n</table>\n</div>"
     },
     "execution_count": 55,
     "metadata": {},
     "output_type": "execute_result"
    }
   ],
   "source": [
    "url = 'https://raw.githubusercontent.com/chrisalbon/simulated_datasets/master/titanic.csv'\n",
    "dframe = pandas.read_csv(url)\n",
    "dframe.head(10)"
   ],
   "metadata": {
    "collapsed": false
   }
  },
  {
   "cell_type": "markdown",
   "source": [
    "## 2.3.3 Задание\n",
    "Проделайте с получившемся из предыдущего задания фреймом данных\n",
    "те же действия, что и в примерах 2.2.5-2.2.7."
   ],
   "metadata": {
    "collapsed": false
   }
  },
  {
   "cell_type": "code",
   "execution_count": 61,
   "outputs": [
    {
     "data": {
      "text/plain": "                  Name PClass   Age   Sex  Survived  SexCode\n1310  Zenni, Mr Philip    3rd  22.0  male         0        0\n1311  Lievens, Mr Rene    3rd  24.0  male         0        0\n1312    Zimmerman, Leo    3rd  29.0  male         0        0",
      "text/html": "<div>\n<style scoped>\n    .dataframe tbody tr th:only-of-type {\n        vertical-align: middle;\n    }\n\n    .dataframe tbody tr th {\n        vertical-align: top;\n    }\n\n    .dataframe thead th {\n        text-align: right;\n    }\n</style>\n<table border=\"1\" class=\"dataframe\">\n  <thead>\n    <tr style=\"text-align: right;\">\n      <th></th>\n      <th>Name</th>\n      <th>PClass</th>\n      <th>Age</th>\n      <th>Sex</th>\n      <th>Survived</th>\n      <th>SexCode</th>\n    </tr>\n  </thead>\n  <tbody>\n    <tr>\n      <th>1310</th>\n      <td>Zenni, Mr Philip</td>\n      <td>3rd</td>\n      <td>22.0</td>\n      <td>male</td>\n      <td>0</td>\n      <td>0</td>\n    </tr>\n    <tr>\n      <th>1311</th>\n      <td>Lievens, Mr Rene</td>\n      <td>3rd</td>\n      <td>24.0</td>\n      <td>male</td>\n      <td>0</td>\n      <td>0</td>\n    </tr>\n    <tr>\n      <th>1312</th>\n      <td>Zimmerman, Leo</td>\n      <td>3rd</td>\n      <td>29.0</td>\n      <td>male</td>\n      <td>0</td>\n      <td>0</td>\n    </tr>\n  </tbody>\n</table>\n</div>"
     },
     "execution_count": 61,
     "metadata": {},
     "output_type": "execute_result"
    }
   ],
   "source": [
    "dframe.head(2)"
   ],
   "metadata": {
    "collapsed": false
   }
  },
  {
   "cell_type": "code",
   "execution_count": 62,
   "outputs": [
    {
     "data": {
      "text/plain": "                  Name PClass   Age   Sex  Survived  SexCode\n1310  Zenni, Mr Philip    3rd  22.0  male         0        0\n1311  Lievens, Mr Rene    3rd  24.0  male         0        0\n1312    Zimmerman, Leo    3rd  29.0  male         0        0",
      "text/html": "<div>\n<style scoped>\n    .dataframe tbody tr th:only-of-type {\n        vertical-align: middle;\n    }\n\n    .dataframe tbody tr th {\n        vertical-align: top;\n    }\n\n    .dataframe thead th {\n        text-align: right;\n    }\n</style>\n<table border=\"1\" class=\"dataframe\">\n  <thead>\n    <tr style=\"text-align: right;\">\n      <th></th>\n      <th>Name</th>\n      <th>PClass</th>\n      <th>Age</th>\n      <th>Sex</th>\n      <th>Survived</th>\n      <th>SexCode</th>\n    </tr>\n  </thead>\n  <tbody>\n    <tr>\n      <th>1310</th>\n      <td>Zenni, Mr Philip</td>\n      <td>3rd</td>\n      <td>22.0</td>\n      <td>male</td>\n      <td>0</td>\n      <td>0</td>\n    </tr>\n    <tr>\n      <th>1311</th>\n      <td>Lievens, Mr Rene</td>\n      <td>3rd</td>\n      <td>24.0</td>\n      <td>male</td>\n      <td>0</td>\n      <td>0</td>\n    </tr>\n    <tr>\n      <th>1312</th>\n      <td>Zimmerman, Leo</td>\n      <td>3rd</td>\n      <td>29.0</td>\n      <td>male</td>\n      <td>0</td>\n      <td>0</td>\n    </tr>\n  </tbody>\n</table>\n</div>"
     },
     "execution_count": 62,
     "metadata": {},
     "output_type": "execute_result"
    }
   ],
   "source": [
    "dframe.tail(3)"
   ],
   "metadata": {
    "collapsed": false
   }
  },
  {
   "cell_type": "code",
   "execution_count": 63,
   "outputs": [
    {
     "data": {
      "text/plain": "(1313, 6)"
     },
     "execution_count": 63,
     "metadata": {},
     "output_type": "execute_result"
    }
   ],
   "source": [
    "dframe.shape"
   ],
   "metadata": {
    "collapsed": false
   }
  },
  {
   "cell_type": "code",
   "execution_count": 64,
   "outputs": [
    {
     "data": {
      "text/plain": "              Age     Survived      SexCode\ncount  756.000000  1313.000000  1313.000000\nmean    30.397989     0.342727     0.351866\nstd     14.259049     0.474802     0.477734\nmin      0.170000     0.000000     0.000000\n25%     21.000000     0.000000     0.000000\n50%     28.000000     0.000000     0.000000\n75%     39.000000     1.000000     1.000000\nmax     71.000000     1.000000     1.000000",
      "text/html": "<div>\n<style scoped>\n    .dataframe tbody tr th:only-of-type {\n        vertical-align: middle;\n    }\n\n    .dataframe tbody tr th {\n        vertical-align: top;\n    }\n\n    .dataframe thead th {\n        text-align: right;\n    }\n</style>\n<table border=\"1\" class=\"dataframe\">\n  <thead>\n    <tr style=\"text-align: right;\">\n      <th></th>\n      <th>Age</th>\n      <th>Survived</th>\n      <th>SexCode</th>\n    </tr>\n  </thead>\n  <tbody>\n    <tr>\n      <th>count</th>\n      <td>756.000000</td>\n      <td>1313.000000</td>\n      <td>1313.000000</td>\n    </tr>\n    <tr>\n      <th>mean</th>\n      <td>30.397989</td>\n      <td>0.342727</td>\n      <td>0.351866</td>\n    </tr>\n    <tr>\n      <th>std</th>\n      <td>14.259049</td>\n      <td>0.474802</td>\n      <td>0.477734</td>\n    </tr>\n    <tr>\n      <th>min</th>\n      <td>0.170000</td>\n      <td>0.000000</td>\n      <td>0.000000</td>\n    </tr>\n    <tr>\n      <th>25%</th>\n      <td>21.000000</td>\n      <td>0.000000</td>\n      <td>0.000000</td>\n    </tr>\n    <tr>\n      <th>50%</th>\n      <td>28.000000</td>\n      <td>0.000000</td>\n      <td>0.000000</td>\n    </tr>\n    <tr>\n      <th>75%</th>\n      <td>39.000000</td>\n      <td>1.000000</td>\n      <td>1.000000</td>\n    </tr>\n    <tr>\n      <th>max</th>\n      <td>71.000000</td>\n      <td>1.000000</td>\n      <td>1.000000</td>\n    </tr>\n  </tbody>\n</table>\n</div>"
     },
     "execution_count": 64,
     "metadata": {},
     "output_type": "execute_result"
    }
   ],
   "source": [
    "dframe.describe()"
   ],
   "metadata": {
    "collapsed": false
   }
  },
  {
   "cell_type": "code",
   "execution_count": 65,
   "outputs": [
    {
     "data": {
      "text/plain": "                                            Name PClass   Age     Sex  \\\n1                    Allison, Miss Helen Loraine    1st   2.0  female   \n2            Allison, Mr Hudson Joshua Creighton    1st  30.0    male   \n3  Allison, Mrs Hudson JC (Bessie Waldo Daniels)    1st  25.0  female   \n\n   Survived  SexCode  \n1         0        1  \n2         0        0  \n3         0        1  ",
      "text/html": "<div>\n<style scoped>\n    .dataframe tbody tr th:only-of-type {\n        vertical-align: middle;\n    }\n\n    .dataframe tbody tr th {\n        vertical-align: top;\n    }\n\n    .dataframe thead th {\n        text-align: right;\n    }\n</style>\n<table border=\"1\" class=\"dataframe\">\n  <thead>\n    <tr style=\"text-align: right;\">\n      <th></th>\n      <th>Name</th>\n      <th>PClass</th>\n      <th>Age</th>\n      <th>Sex</th>\n      <th>Survived</th>\n      <th>SexCode</th>\n    </tr>\n  </thead>\n  <tbody>\n    <tr>\n      <th>1</th>\n      <td>Allison, Miss Helen Loraine</td>\n      <td>1st</td>\n      <td>2.0</td>\n      <td>female</td>\n      <td>0</td>\n      <td>1</td>\n    </tr>\n    <tr>\n      <th>2</th>\n      <td>Allison, Mr Hudson Joshua Creighton</td>\n      <td>1st</td>\n      <td>30.0</td>\n      <td>male</td>\n      <td>0</td>\n      <td>0</td>\n    </tr>\n    <tr>\n      <th>3</th>\n      <td>Allison, Mrs Hudson JC (Bessie Waldo Daniels)</td>\n      <td>1st</td>\n      <td>25.0</td>\n      <td>female</td>\n      <td>0</td>\n      <td>1</td>\n    </tr>\n  </tbody>\n</table>\n</div>"
     },
     "execution_count": 65,
     "metadata": {},
     "output_type": "execute_result"
    }
   ],
   "source": [
    "dframe.iloc[1:4]"
   ],
   "metadata": {
    "collapsed": false
   }
  },
  {
   "cell_type": "code",
   "execution_count": 66,
   "outputs": [
    {
     "data": {
      "text/plain": "                           Name PClass   Age     Sex  Survived  SexCode\n0  Allen, Miss Elisabeth Walton    1st  29.0  female         1        1\n1   Allison, Miss Helen Loraine    1st   2.0  female         0        1",
      "text/html": "<div>\n<style scoped>\n    .dataframe tbody tr th:only-of-type {\n        vertical-align: middle;\n    }\n\n    .dataframe tbody tr th {\n        vertical-align: top;\n    }\n\n    .dataframe thead th {\n        text-align: right;\n    }\n</style>\n<table border=\"1\" class=\"dataframe\">\n  <thead>\n    <tr style=\"text-align: right;\">\n      <th></th>\n      <th>Name</th>\n      <th>PClass</th>\n      <th>Age</th>\n      <th>Sex</th>\n      <th>Survived</th>\n      <th>SexCode</th>\n    </tr>\n  </thead>\n  <tbody>\n    <tr>\n      <th>0</th>\n      <td>Allen, Miss Elisabeth Walton</td>\n      <td>1st</td>\n      <td>29.0</td>\n      <td>female</td>\n      <td>1</td>\n      <td>1</td>\n    </tr>\n    <tr>\n      <th>1</th>\n      <td>Allison, Miss Helen Loraine</td>\n      <td>1st</td>\n      <td>2.0</td>\n      <td>female</td>\n      <td>0</td>\n      <td>1</td>\n    </tr>\n  </tbody>\n</table>\n</div>"
     },
     "execution_count": 66,
     "metadata": {},
     "output_type": "execute_result"
    }
   ],
   "source": [
    "dframe[dframe['PClass'] == '1st'].head(2)"
   ],
   "metadata": {
    "collapsed": false
   }
  },
  {
   "cell_type": "markdown",
   "source": [
    "## 3.3.2 Задание\n",
    "Загрузить фрейм данных по ссылке:\n",
    "https://raw.githubusercontent.com/akmand/datasets/master/iris.csv.\n",
    "Необходимо выполнить нормализацию первого числового признака\n",
    "(sepal_length_cm) с использованием минимаксного преобразования, а\n",
    "второго (sepal_width_cm) с задействованием z-масштабирования."
   ],
   "metadata": {
    "collapsed": false
   }
  },
  {
   "cell_type": "code",
   "execution_count": 80,
   "outputs": [
    {
     "data": {
      "text/plain": "     sepal_length_cm  sepal_width_cm  petal_length_cm  petal_width_cm  \\\n0           0.222222             3.5              1.4             0.2   \n1           0.166667             3.0              1.4             0.2   \n2           0.111111             3.2              1.3             0.2   \n3           0.083333             3.1              1.5             0.2   \n4           0.194444             3.6              1.4             0.2   \n..               ...             ...              ...             ...   \n145         0.666667             3.0              5.2             2.3   \n146         0.555556             2.5              5.0             1.9   \n147         0.611111             3.0              5.2             2.0   \n148         0.527778             3.4              5.4             2.3   \n149         0.444444             3.0              5.1             1.8   \n\n       species  \n0       setosa  \n1       setosa  \n2       setosa  \n3       setosa  \n4       setosa  \n..         ...  \n145  virginica  \n146  virginica  \n147  virginica  \n148  virginica  \n149  virginica  \n\n[150 rows x 5 columns]",
      "text/html": "<div>\n<style scoped>\n    .dataframe tbody tr th:only-of-type {\n        vertical-align: middle;\n    }\n\n    .dataframe tbody tr th {\n        vertical-align: top;\n    }\n\n    .dataframe thead th {\n        text-align: right;\n    }\n</style>\n<table border=\"1\" class=\"dataframe\">\n  <thead>\n    <tr style=\"text-align: right;\">\n      <th></th>\n      <th>sepal_length_cm</th>\n      <th>sepal_width_cm</th>\n      <th>petal_length_cm</th>\n      <th>petal_width_cm</th>\n      <th>species</th>\n    </tr>\n  </thead>\n  <tbody>\n    <tr>\n      <th>0</th>\n      <td>0.222222</td>\n      <td>3.5</td>\n      <td>1.4</td>\n      <td>0.2</td>\n      <td>setosa</td>\n    </tr>\n    <tr>\n      <th>1</th>\n      <td>0.166667</td>\n      <td>3.0</td>\n      <td>1.4</td>\n      <td>0.2</td>\n      <td>setosa</td>\n    </tr>\n    <tr>\n      <th>2</th>\n      <td>0.111111</td>\n      <td>3.2</td>\n      <td>1.3</td>\n      <td>0.2</td>\n      <td>setosa</td>\n    </tr>\n    <tr>\n      <th>3</th>\n      <td>0.083333</td>\n      <td>3.1</td>\n      <td>1.5</td>\n      <td>0.2</td>\n      <td>setosa</td>\n    </tr>\n    <tr>\n      <th>4</th>\n      <td>0.194444</td>\n      <td>3.6</td>\n      <td>1.4</td>\n      <td>0.2</td>\n      <td>setosa</td>\n    </tr>\n    <tr>\n      <th>...</th>\n      <td>...</td>\n      <td>...</td>\n      <td>...</td>\n      <td>...</td>\n      <td>...</td>\n    </tr>\n    <tr>\n      <th>145</th>\n      <td>0.666667</td>\n      <td>3.0</td>\n      <td>5.2</td>\n      <td>2.3</td>\n      <td>virginica</td>\n    </tr>\n    <tr>\n      <th>146</th>\n      <td>0.555556</td>\n      <td>2.5</td>\n      <td>5.0</td>\n      <td>1.9</td>\n      <td>virginica</td>\n    </tr>\n    <tr>\n      <th>147</th>\n      <td>0.611111</td>\n      <td>3.0</td>\n      <td>5.2</td>\n      <td>2.0</td>\n      <td>virginica</td>\n    </tr>\n    <tr>\n      <th>148</th>\n      <td>0.527778</td>\n      <td>3.4</td>\n      <td>5.4</td>\n      <td>2.3</td>\n      <td>virginica</td>\n    </tr>\n    <tr>\n      <th>149</th>\n      <td>0.444444</td>\n      <td>3.0</td>\n      <td>5.1</td>\n      <td>1.8</td>\n      <td>virginica</td>\n    </tr>\n  </tbody>\n</table>\n<p>150 rows × 5 columns</p>\n</div>"
     },
     "execution_count": 80,
     "metadata": {},
     "output_type": "execute_result"
    }
   ],
   "source": [
    "from sklearn.preprocessing import MinMaxScaler\n",
    "scaler = MinMaxScaler()\n",
    "dframe = pandas.read_csv('https://raw.githubusercontent.com/akmand/datasets/master/iris.csv')\n",
    "dframe[['sepal_length_cm']] = scaler.fit_transform(dframe[['sepal_length_cm']])\n",
    "dframe"
   ],
   "metadata": {
    "collapsed": false
   }
  },
  {
   "cell_type": "code",
   "execution_count": null,
   "outputs": [],
   "source": [],
   "metadata": {
    "collapsed": false
   }
  }
 ],
 "metadata": {
  "kernelspec": {
   "display_name": "Python 3",
   "language": "python",
   "name": "python3"
  },
  "language_info": {
   "codemirror_mode": {
    "name": "ipython",
    "version": 2
   },
   "file_extension": ".py",
   "mimetype": "text/x-python",
   "name": "python",
   "nbconvert_exporter": "python",
   "pygments_lexer": "ipython2",
   "version": "2.7.6"
  }
 },
 "nbformat": 4,
 "nbformat_minor": 0
}
