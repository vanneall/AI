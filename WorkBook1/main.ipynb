{
 "cells": [
  {
   "cell_type": "code",
   "execution_count": 1,
   "metadata": {
    "collapsed": true
   },
   "outputs": [
    {
     "name": "stdout",
     "output_type": "stream",
     "text": [
      "True | <class 'bool'> \n",
      " {8, 1, 3, 7} | <class 'set'> \n",
      " {'apple', 2, 4, 5, 10} | <class 'set'> \n",
      " set() | <class 'set'> \n",
      " ('Антонова Антонина', 34, 'ж') | <class 'tuple'> \n",
      " type | <class 'str'> \n",
      " [1, 'title', 2, 'content'] | <class 'list'>\n"
     ]
    }
   ],
   "source": [
    "x = 5 >= 2\n",
    "A = {1,3,7,8}\n",
    "B = {2,4,5,10, 'apple'}\n",
    "C = A & B\n",
    "df = 'Антонова Антонина', 34, 'ж'\n",
    "z = 'type'\n",
    "D = [1, 'title', 2, 'content']\n",
    "print(x, '|', type(x), '\\n',\n",
    "     A, '|', type(A), '\\n',\n",
    "     B, '|', type(B), '\\n',\n",
    "     C, '|', type(C), '\\n',\n",
    "     df, '|', type(df), '\\n',\n",
    "     z, '|', type(z), '\\n',\n",
    "     D, '|', type(D))"
   ]
  },
  {
   "cell_type": "code",
   "execution_count": 2,
   "outputs": [
    {
     "name": "stdout",
     "output_type": "stream",
     "text": [
      "[-5, 5]\n"
     ]
    }
   ],
   "source": [
    "x = int(input())\n",
    "if x < -5:\n",
    "    print('(-infinity, -5)')\n",
    "elif -5 <= x <= 5:\n",
    "    print('[-5, 5]')\n",
    "else:\n",
    "    print('(5, +infinity)')"
   ],
   "metadata": {
    "collapsed": false
   }
  },
  {
   "cell_type": "code",
   "execution_count": 3,
   "outputs": [
    {
     "name": "stdout",
     "output_type": "stream",
     "text": [
      "10\n",
      "7\n",
      "4\n",
      "1\n"
     ]
    }
   ],
   "source": [
    "x = 10\n",
    "while x >= 1:\n",
    "    print(x)\n",
    "    x -= 3"
   ],
   "metadata": {
    "collapsed": false
   }
  },
  {
   "cell_type": "code",
   "execution_count": 4,
   "outputs": [
    {
     "name": "stdout",
     "output_type": "stream",
     "text": [
      "глаза\n",
      "руки\n",
      "голос\n",
      "рот\n"
     ]
    }
   ],
   "source": [
    "human = ['глаза','руки', 'голос', 'рот']\n",
    "for i in human:\n",
    "    print(i)"
   ],
   "metadata": {
    "collapsed": false
   }
  },
  {
   "cell_type": "code",
   "execution_count": 5,
   "outputs": [
    {
     "name": "stdout",
     "output_type": "stream",
     "text": [
      "[2, 3, 4, 5, 6, 7, 8, 9, 10, 11, 12, 13, 14, 15]\n"
     ]
    }
   ],
   "source": [
    "x = range(2, 15 + 1, 1)\n",
    "print(list(x))"
   ],
   "metadata": {
    "collapsed": false
   }
  },
  {
   "cell_type": "code",
   "execution_count": 6,
   "outputs": [
    {
     "name": "stdout",
     "output_type": "stream",
     "text": [
      "105\n",
      "80\n",
      "55\n",
      "30\n",
      "5\n"
     ]
    }
   ],
   "source": [
    "for i in range(105, 5 - 1, -25):\n",
    "    print(i)"
   ],
   "metadata": {
    "collapsed": false
   }
  },
  {
   "cell_type": "code",
   "execution_count": 7,
   "outputs": [
    {
     "name": "stdout",
     "output_type": "stream",
     "text": [
      "[8, 1, 6, 3, 4, 5, 2, 7, 0, 9]\n"
     ]
    }
   ],
   "source": [
    "x = [0,1,2,3,4,5,6,7,8,9]\n",
    "x[::2] = reversed(x[::2])\n",
    "print(x)"
   ],
   "metadata": {
    "collapsed": false
   }
  },
  {
   "cell_type": "code",
   "execution_count": 9,
   "outputs": [
    {
     "ename": "ModuleNotFoundError",
     "evalue": "No module named 'pandas'",
     "output_type": "error",
     "traceback": [
      "\u001B[1;31m---------------------------------------------------------------------------\u001B[0m",
      "\u001B[1;31mModuleNotFoundError\u001B[0m                       Traceback (most recent call last)",
      "Cell \u001B[1;32mIn[9], line 3\u001B[0m\n\u001B[0;32m      1\u001B[0m \u001B[38;5;28;01mimport\u001B[39;00m \u001B[38;5;21;01mrandom\u001B[39;00m\n\u001B[0;32m      2\u001B[0m \u001B[38;5;28;01mimport\u001B[39;00m \u001B[38;5;21;01mstatistics\u001B[39;00m\n\u001B[1;32m----> 3\u001B[0m \u001B[38;5;28;01mimport\u001B[39;00m \u001B[38;5;21;01mpandas\u001B[39;00m\n\u001B[0;32m      4\u001B[0m i \u001B[38;5;241m=\u001B[39m \u001B[38;5;241m0\u001B[39m\n\u001B[0;32m      5\u001B[0m list1  \u001B[38;5;241m=\u001B[39m []\n",
      "\u001B[1;31mModuleNotFoundError\u001B[0m: No module named 'pandas'"
     ]
    }
   ],
   "source": [
    "import random\n",
    "import statistics\n",
    "import pandas\n",
    "i = 0\n",
    "list1  = []\n",
    "while i<9:\n",
    "    i+=1\n",
    "    a = round(random.random(), 2)\n",
    "    list1.append(a)\n",
    "print(list1)\n",
    "print(statistics.median(list1))\n",
    "print(statistics.mean(list1))\n",
    "\n",
    "df = pandas.DataFrame({'x':list1,'y':list1})\n",
    "df.plot.scatter(x='x', y='y')"
   ],
   "metadata": {
    "collapsed": false
   }
  },
  {
   "cell_type": "code",
   "execution_count": 10,
   "outputs": [
    {
     "ename": "ModuleNotFoundError",
     "evalue": "No module named 'numpy'",
     "output_type": "error",
     "traceback": [
      "\u001B[1;31m---------------------------------------------------------------------------\u001B[0m",
      "\u001B[1;31mModuleNotFoundError\u001B[0m                       Traceback (most recent call last)",
      "Cell \u001B[1;32mIn[10], line 2\u001B[0m\n\u001B[0;32m      1\u001B[0m \u001B[38;5;28;01mimport\u001B[39;00m \u001B[38;5;21;01mmath\u001B[39;00m\n\u001B[1;32m----> 2\u001B[0m \u001B[38;5;28;01mimport\u001B[39;00m \u001B[38;5;21;01mnumpy\u001B[39;00m \u001B[38;5;28;01mas\u001B[39;00m \u001B[38;5;21;01mnp\u001B[39;00m\n\u001B[0;32m      3\u001B[0m \u001B[38;5;28;01mimport\u001B[39;00m \u001B[38;5;21;01mmatplotlib\u001B[39;00m\u001B[38;5;21;01m.\u001B[39;00m\u001B[38;5;21;01mpyplot\u001B[39;00m \u001B[38;5;28;01mas\u001B[39;00m \u001B[38;5;21;01mplt\u001B[39;00m\n\u001B[0;32m      5\u001B[0m list1 \u001B[38;5;241m=\u001B[39m []\n",
      "\u001B[1;31mModuleNotFoundError\u001B[0m: No module named 'numpy'"
     ]
    }
   ],
   "source": [
    "import math\n",
    "import numpy as np\n",
    "import matplotlib.pyplot as plt\n",
    "\n",
    "list1 = []\n",
    "for x in range(1,11):\n",
    "    a = math.sqrt(1+math.exp(math.sqrt(x))+math.cos(x^2))\n",
    "    b = math.fabs(1-math.pow(math.sin(x),3))\n",
    "    c = a/b\n",
    "    d = math.log(math.fabs(2*x))\n",
    "    res = round(c+d,2)\n",
    "    list1.append(res)\n",
    "print(list1)\n",
    "list2 = list1[:5]\n",
    "\n",
    "x1 = range(1, 6, 1)\n",
    "y1 = list2\n",
    "plt.scatter(x1, y1)\n",
    "plt.show()\n",
    "\n",
    "x2 = range(1,11,1)\n",
    "y2 = list1\n",
    "plt.plot(x2,y2)"
   ],
   "metadata": {
    "collapsed": false
   }
  },
  {
   "cell_type": "code",
   "execution_count": 11,
   "outputs": [
    {
     "ename": "ModuleNotFoundError",
     "evalue": "No module named 'numpy'",
     "output_type": "error",
     "traceback": [
      "\u001B[1;31m---------------------------------------------------------------------------\u001B[0m",
      "\u001B[1;31mModuleNotFoundError\u001B[0m                       Traceback (most recent call last)",
      "Cell \u001B[1;32mIn[11], line 2\u001B[0m\n\u001B[0;32m      1\u001B[0m \u001B[38;5;28;01mimport\u001B[39;00m \u001B[38;5;21;01mmath\u001B[39;00m\n\u001B[1;32m----> 2\u001B[0m \u001B[38;5;28;01mimport\u001B[39;00m \u001B[38;5;21;01mnumpy\u001B[39;00m \u001B[38;5;28;01mas\u001B[39;00m \u001B[38;5;21;01mnp\u001B[39;00m\n\u001B[0;32m      3\u001B[0m \u001B[38;5;28;01mimport\u001B[39;00m \u001B[38;5;21;01mmatplotlib\u001B[39;00m\u001B[38;5;21;01m.\u001B[39;00m\u001B[38;5;21;01mpyplot\u001B[39;00m\n\u001B[0;32m      5\u001B[0m list1 \u001B[38;5;241m=\u001B[39m []\n",
      "\u001B[1;31mModuleNotFoundError\u001B[0m: No module named 'numpy'"
     ]
    }
   ],
   "source": [
    "import math\n",
    "import numpy as np\n",
    "import matplotlib.pyplot\n",
    "\n",
    "list1 = []\n",
    "for x in range(1,11):\n",
    "    a = math.exp(math.cos(x)+math.log(1+x))\n",
    "    res = round(math.fabs(math.cos(x*a)),2)\n",
    "    list1.append(res)\n",
    "print(list1)\n",
    "\n",
    "x2 = range(1,11,1)\n",
    "y2 = list1\n",
    "matplotlib.pyplot.plot(x2,y2)\n",
    "matplotlib.pyplot.fill_between(x2, y2)\n",
    "print(np.trapz(list1,range(1,11)))"
   ],
   "metadata": {
    "collapsed": false
   }
  },
  {
   "cell_type": "code",
   "execution_count": 12,
   "outputs": [
    {
     "ename": "ModuleNotFoundError",
     "evalue": "No module named 'numpy'",
     "output_type": "error",
     "traceback": [
      "\u001B[1;31m---------------------------------------------------------------------------\u001B[0m",
      "\u001B[1;31mModuleNotFoundError\u001B[0m                       Traceback (most recent call last)",
      "Cell \u001B[1;32mIn[12], line 2\u001B[0m\n\u001B[0;32m      1\u001B[0m \u001B[38;5;28;01mimport\u001B[39;00m \u001B[38;5;21;01mmath\u001B[39;00m\n\u001B[1;32m----> 2\u001B[0m \u001B[38;5;28;01mimport\u001B[39;00m \u001B[38;5;21;01mnumpy\u001B[39;00m \u001B[38;5;28;01mas\u001B[39;00m \u001B[38;5;21;01mnp\u001B[39;00m\n\u001B[0;32m      3\u001B[0m \u001B[38;5;28;01mimport\u001B[39;00m \u001B[38;5;21;01mmatplotlib\u001B[39;00m\u001B[38;5;21;01m.\u001B[39;00m\u001B[38;5;21;01mpyplot\u001B[39;00m\n\u001B[0;32m      5\u001B[0m list1 \u001B[38;5;241m=\u001B[39m [\u001B[38;5;241m174.8\u001B[39m,\u001B[38;5;241m157.4\u001B[39m,\u001B[38;5;241m178.4\u001B[39m,\u001B[38;5;241m157.2\u001B[39m,\u001B[38;5;241m151.6\u001B[39m,\u001B[38;5;241m144.8\u001B[39m,\u001B[38;5;241m168.4\u001B[39m,\u001B[38;5;241m154.4\u001B[39m,\u001B[38;5;241m140.0\u001B[39m,\u001B[38;5;241m142.1\u001B[39m,\u001B[38;5;241m130.7\u001B[39m,\u001B[38;5;241m151.4\u001B[39m]\n",
      "\u001B[1;31mModuleNotFoundError\u001B[0m: No module named 'numpy'"
     ]
    }
   ],
   "source": [
    "import math\n",
    "import numpy as np\n",
    "import matplotlib.pyplot\n",
    "\n",
    "list1 = [174.8,157.4,178.4,157.2,151.6,144.8,168.4,154.4,140.0,142.1,130.7,151.4]\n",
    "list2 = [311.2,278.9,314.9,264.5,270.0,262.8,282.9,258.0,249.2,221.3,247.4,224.9]\n",
    "list3 = [139.2,133.8,137.1,115.6,117.0,115.2,118.2,107.4,102.2,86.7,99.8,88.1]\n",
    "x = range(1,13)\n",
    "matplotlib.pyplot.plot(x,list1,x,list2,x,list3)\n",
    "matplotlib.pyplot.grid()"
   ],
   "metadata": {
    "collapsed": false
   }
  },
  {
   "cell_type": "code",
   "execution_count": 13,
   "outputs": [
    {
     "name": "stdout",
     "output_type": "stream",
     "text": [
      "Конец работы - 0\n",
      "3.0\n"
     ]
    }
   ],
   "source": [
    "import math\n",
    "print(\"Конец работы - 0\")\n",
    "while True:\n",
    "    sign = input(\"Знак (+, -, *, /, sin, cos, e, pow): \")\n",
    "    if sign == '0':\n",
    "        break\n",
    "    x = float(input(\"x=\"))\n",
    "    y = float(input(\"y=\"))\n",
    "    if sign == '+':\n",
    "        print(round((x+y),2))\n",
    "    elif sign == '-':\n",
    "        print(round((x-y),2))\n",
    "    elif sign == '*':\n",
    "        print(round((x*y),2))\n",
    "    elif sign == '/':\n",
    "        if y != 0:\n",
    "            print(\"%.2f\" % (x/y))\n",
    "        else:\n",
    "            print(\"нельзя делить на 0\")\n",
    "    elif sign == 'sin':\n",
    "        print(math.sin(x+y))\n",
    "    elif sign == 'cos':\n",
    "        print(math.cos(x+y))\n",
    "    elif sign == 'e':\n",
    "        print(math.exp(x+y))\n",
    "    elif sign == 'pow':\n",
    "        print(math.pow(x,y))\n",
    "    else:\n",
    "        print(\"Неверный знак операции!\")"
   ],
   "metadata": {
    "collapsed": false
   }
  },
  {
   "cell_type": "code",
   "execution_count": null,
   "outputs": [],
   "source": [],
   "metadata": {
    "collapsed": false
   }
  }
 ],
 "metadata": {
  "kernelspec": {
   "display_name": "Python 3",
   "language": "python",
   "name": "python3"
  },
  "language_info": {
   "codemirror_mode": {
    "name": "ipython",
    "version": 2
   },
   "file_extension": ".py",
   "mimetype": "text/x-python",
   "name": "python",
   "nbconvert_exporter": "python",
   "pygments_lexer": "ipython2",
   "version": "2.7.6"
  }
 },
 "nbformat": 4,
 "nbformat_minor": 0
}
